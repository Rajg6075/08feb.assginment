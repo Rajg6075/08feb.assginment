{
 "cells": [
  {
   "cell_type": "code",
   "execution_count": null,
   "id": "c14e85a8-3411-4697-a9d7-08be5a41a621",
   "metadata": {},
   "outputs": [],
   "source": [
    "Q1. What is Abstraction in OOps? Explain with an example.\n",
    "Ans= Abstraction is basically hiding the unnecessary data and showing only essential data.\n",
    "for example - when we create the facebook id, the user only sees and fill the details the user name or eamil and easily found that the fb id.\n",
    "while they dont know how the database connect with the backend of fb . and thats why easily create fb id."
   ]
  },
  {
   "cell_type": "code",
   "execution_count": null,
   "id": "1ba7a069-0fef-402c-aa9e-d3f842ba4aa8",
   "metadata": {},
   "outputs": [],
   "source": [
    "Q2. Differentiate between Abstraction and Encapsulation. Explain with an example.\n",
    "ANS= Abstraction\tand Encapsulation\n",
    "Abstraction is the process or method of gaining the information.\tWhile encapsulation is the process or method to contain the information.\n",
    "In abstraction, problems are solved at the design or interface level.\tWhile in encapsulation, problems are solved at the implementation level.\n",
    "Abstraction is the method of hiding the unwanted information.\tWhereas encapsulation is a method to hide the data in a single entity or unit along with a method to protect information from outside.\n",
    "We can implement abstraction using abstract class and interfaces.\tWhereas encapsulation can be implemented using by access modifier i.e. private, protected and public."
   ]
  },
  {
   "cell_type": "code",
   "execution_count": null,
   "id": "e98259fd-df87-4046-b1ad-c23ea191f9c7",
   "metadata": {},
   "outputs": [],
   "source": [
    "Q3. What is abc module in python? Why is it used?\n",
    "ANS= In Python, the abc module stands for \"Abstract Base Classes.\" It provides a mechanism to define abstract classes, which are classes that cannot be instantiated on their own but serve as blueprints for other classes. Abstract base classes are meant to be subclassed, and they define a set of methods (abstract methods) that must be implemented by their subclasses.\n",
    "\n",
    "The abc module is used to implement interfaces and enforce certain behaviors in derived classes, promoting a more structured and consistent approach to object-oriented programming. The main purpose of using abstract base classes is to ensure that specific methods are present in the derived classes, providing a common interface or contract for those classes to follow.\n",
    "\n",
    "The primary benefits of using the abc module are:\n",
    "\n",
    "Enforcement of Interface: Abstract base classes help enforce a specific set of methods that must be implemented in the derived classes. \n",
    "This makes it easier to understand the expected behavior of subclasses.\n",
    "Code Documentation: Abstract base classes provide a clear documentation of what methods should be implemented by subclasses, improving code readability and maintainability.\n",
    "Polymorphism: Abstract base classes facilitate polymorphism, as different classes can share a common interface through subclassing the abstract base class."
   ]
  },
  {
   "cell_type": "code",
   "execution_count": null,
   "id": "93627fad-7278-4ceb-aec4-7422ce9b3414",
   "metadata": {},
   "outputs": [],
   "source": [
    "Q4. How can we achieve data abstraction?\n",
    "ANS= \n",
    "Data abstraction can be achieved in programming languages, including Python, through the use of abstract classes and abstract methods. \n",
    "Data abstraction is a fundamental concept in object-oriented programming that allows you to create abstract models of objects, emphasizing only the relevant characteristics and behavior while hiding unnecessary details. \n",
    "This helps in simplifying the code and making it more maintainable and extensible."
   ]
  },
  {
   "cell_type": "code",
   "execution_count": null,
   "id": "54660aa5-d039-4632-a88c-4a57948d9f6e",
   "metadata": {},
   "outputs": [],
   "source": [
    "Q5. Can we create an instance of an abstract class? Explain your answer.\n",
    "ANS= \n",
    "No, you cannot create an instance of an abstract class directly. Abstract classes are meant to be incomplete, as they have one or more abstract methods that lack implementation. \n",
    "They serve as blueprints for other classes and define a common interface or contract that derived classes must follow.\n",
    "The main purpose of an abstract class is to provide a template for its subclasses, rather than being instantiated on its own."
   ]
  }
 ],
 "metadata": {
  "kernelspec": {
   "display_name": "Python 3 (ipykernel)",
   "language": "python",
   "name": "python3"
  },
  "language_info": {
   "codemirror_mode": {
    "name": "ipython",
    "version": 3
   },
   "file_extension": ".py",
   "mimetype": "text/x-python",
   "name": "python",
   "nbconvert_exporter": "python",
   "pygments_lexer": "ipython3",
   "version": "3.10.8"
  }
 },
 "nbformat": 4,
 "nbformat_minor": 5
}
